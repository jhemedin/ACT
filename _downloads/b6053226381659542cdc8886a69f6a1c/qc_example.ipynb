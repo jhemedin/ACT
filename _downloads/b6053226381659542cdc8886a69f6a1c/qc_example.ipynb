{
  "cells": [
    {
      "cell_type": "code",
      "execution_count": null,
      "metadata": {
        "collapsed": false
      },
      "outputs": [],
      "source": [
        "%matplotlib inline"
      ]
    },
    {
      "cell_type": "markdown",
      "metadata": {},
      "source": [
        "\n# Example for working with embedded quality control variables\n\n\nThis is an example of how to use existing or create new quality\ncontrol varibles.\n"
      ]
    },
    {
      "cell_type": "code",
      "execution_count": null,
      "metadata": {
        "collapsed": false
      },
      "outputs": [],
      "source": [
        "from act.io.armfiles import read_netcdf\nfrom act.tests import EXAMPLE_IRT25m20s\nimport numpy as np\n\n# Read a data file that does not have any embedded quality control\n# variables. This data comes from the example dataset within ACT.\nds_object = read_netcdf(EXAMPLE_IRT25m20s)\n\n# The name of the data variable we wish to work with\nvar_name = 'inst_up_long_dome_resist'\n\n# Since there is no embedded quality control varible one will be\n# created for us.\n# Perform adding of quality control variables to object.\n# We can start with adding where the data are set to missing value.\n# First we will change the first value to NaN to simulate where\n# a missing value exist in the data file.\ndata = ds_object[var_name].values\ndata[0] = np.nan\nds_object[var_name].values = data\n\n# Add a test for where the data are set to missing value.\nresult = ds_object.qcfilter.add_missing_value_test(var_name)\n\n# The returned dictionary will contain the information added to the\n# quality control varible for direct use now. Or the information\n# can be looked up later for use.\nprint('result= ', result)\nprint()\n\n# We can add a second test where data is less than a specified value.\nresult = ds_object.qcfilter.add_less_test(var_name, 7.8)\n\n# Next we add a test to indicate where a value is greater than\n# or equal to a specified number. We also set the assessement\n# to a user defined word. The default assessment is \"Bad\".\nresult = ds_object.qcfilter.add_greater_equal_test(var_name, 12,\n                                                   test_assessment='Suspect')\n\n# We can now get the data as a numpy masked array with a mask\n# where the third test we added (greater than or equal to) using\n# the result dictionary to get the test number created for us.\ndata = ds_object.qcfilter.get_masked_data(var_name,\n                                          rm_tests=result['test_number'])\nprint('Data type=', type(data))\nprint()\n\n# Or we can get the masked array for all tests that use the assessment\n# set to \"Bad\".\ndata = ds_object.qcfilter.get_masked_data(var_name, rm_assessments=['Bad'])\n\n# If we prefer to mask all data for both Bad or Suspect we can list\n# as many assessments as needed\ndata = ds_object.qcfilter.get_masked_data(var_name,\n                                          rm_assessments=['Suspect', 'Bad'])\nprint('data=', data)\nprint()\n\n# We can convert the masked array into numpy array and choose the fill value.\ndata = data.filled(fill_value=np.nan)\nprint('data filled with masked array fill_value=', data)\n\n# We can create our own test by creating an array of indexes of where\n# we want the test to be set and call the method to create our own test.\ndata = ds_object.qcfilter.get_masked_data(var_name)\ndiff = np.diff(data)\nmax_difference = 0.04\nindex = np.where(diff > max_difference)[0]\nresult = ds_object.qcfilter.add_test(\n    var_name, index=index,\n    test_meaning='Difference is greater than {}'.format(str(max_difference)),\n    test_assessment='Suspect')\n\n# If we prefer to work with numpy arrays directly we can get the\n# data array converted to a numpy array with masked values set\n# to NaN.\ndata = ds_object.qcfilter.get_masked_data(var_name,\n                                          rm_assessments=['Suspect', 'Bad'],\n                                          return_nan_array=True)\nprint('Data type=', type(data))\nprint('data=', data)\nprint()\n\n# We can see how the quality control data is stored and what assessments,\n# or test descriptions are set. The tests have also added attributes to\n# store the test limit values.\nprint('QC Variable=', ds_object[result['qc_variable_name']])\n\n# We can also just use the get_masked_data() method to get data\n# the same as using .values method on the xarray. If we don't set any\n# tests or assessments to mask the returned masked array will not have\n# any mask set.\ndata = ds_object.qcfilter.get_masked_data(var_name)\nprint('Normal numpy array data values:', data.data)"
      ]
    }
  ],
  "metadata": {
    "kernelspec": {
      "display_name": "Python 3",
      "language": "python",
      "name": "python3"
    },
    "language_info": {
      "codemirror_mode": {
        "name": "ipython",
        "version": 3
      },
      "file_extension": ".py",
      "mimetype": "text/x-python",
      "name": "python",
      "nbconvert_exporter": "python",
      "pygments_lexer": "ipython3",
      "version": "3.7.3"
    }
  },
  "nbformat": 4,
  "nbformat_minor": 0
}